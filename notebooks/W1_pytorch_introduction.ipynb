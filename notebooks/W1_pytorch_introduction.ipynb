{
 "cells": [
  {
   "cell_type": "markdown",
   "id": "a1bea9ca",
   "metadata": {},
   "source": [
    "# **PyTorch Introduction**"
   ]
  },
  {
   "cell_type": "markdown",
   "id": "71221bc6",
   "metadata": {},
   "source": [
    "## **Introduction to PyTorch**\n",
    "PyTorch is a deep learning library that enables developers to build and train neural networks with flexibility and ease. It provides tools to create tensors, define computational graphs, and run models on GPUs for faster computation."
   ]
  },
  {
   "cell_type": "markdown",
   "id": "89831b7f",
   "metadata": {},
   "source": [
    "### **Installing PyTorch**\n",
    "Before diving into PyTorch, we need to install it. You can install it using `pip`:\n",
    "```bash\n",
    "pip install torch torchvision\n",
    "```\n",
    "or refer <a>https://pytorch.org/get-started/locally/</a>"
   ]
  },
  {
   "cell_type": "markdown",
   "id": "38775224",
   "metadata": {},
   "source": [
    "### **Importing Libraries**"
   ]
  },
  {
   "cell_type": "code",
   "execution_count": 1,
   "id": "643505be",
   "metadata": {},
   "outputs": [],
   "source": [
    "import torch\n",
    "import torch.nn as nn\n",
    "import torch.optim as optim\n",
    "import torch.nn.functional as F\n",
    "from torchvision import datasets, transforms\n",
    "import matplotlib.pyplot as plt"
   ]
  },
  {
   "cell_type": "markdown",
   "id": "35d29fa3",
   "metadata": {},
   "source": [
    "## **PyTorch Basics**"
   ]
  },
  {
   "cell_type": "markdown",
   "id": "fa69efb5",
   "metadata": {},
   "source": [
    "### **Tensors**\n",
    "Tensors are the core data structure in PyTorch. They are similar to NumPy arrays but with the advantage of being able to run on GPUs."
   ]
  },
  {
   "cell_type": "markdown",
   "id": "359e1b24",
   "metadata": {},
   "source": [
    "#### **Creating Tensors**"
   ]
  },
  {
   "cell_type": "code",
   "execution_count": 2,
   "id": "f49e5c14",
   "metadata": {},
   "outputs": [
    {
     "name": "stdout",
     "output_type": "stream",
     "text": [
      "tensor([[1, 2, 3],\n",
      "        [4, 5, 6]])\n",
      "tensor([[0., 0., 0.],\n",
      "        [0., 0., 0.]])\n",
      "tensor([[0.9090, 0.6202, 0.3061],\n",
      "        [0.6875, 0.4972, 0.4581]])\n"
     ]
    }
   ],
   "source": [
    "# Creating a tensor\n",
    "x = torch.tensor([[1, 2, 3], [4, 5, 6]])\n",
    "print(x)\n",
    "\n",
    "# Creating a tensor of zeros\n",
    "x_zeros = torch.zeros((2, 3))\n",
    "print(x_zeros)\n",
    "\n",
    "# Creating a tensor of random values\n",
    "x_rand = torch.rand((2, 3))\n",
    "print(x_rand)"
   ]
  },
  {
   "cell_type": "markdown",
   "id": "a07cc910",
   "metadata": {},
   "source": [
    "#### **Tensor Operations**"
   ]
  },
  {
   "cell_type": "code",
   "execution_count": 5,
   "id": "91d15a95",
   "metadata": {},
   "outputs": [
    {
     "name": "stdout",
     "output_type": "stream",
     "text": [
      "tensor([[2, 3, 4],\n",
      "        [6, 7, 8]])\n",
      "tensor([[ 6, 12],\n",
      "        [15, 30]])\n",
      "tensor([[1, 2],\n",
      "        [3, 4],\n",
      "        [5, 6]])\n"
     ]
    }
   ],
   "source": [
    "# Basic operations\n",
    "y = torch.tensor([[1, 1, 1], [2, 2, 2]])\n",
    "result = x + y\n",
    "print(result)\n",
    "\n",
    "# Matrix multiplication\n",
    "result_mul = torch.matmul(x, y.T)\n",
    "print(result_mul)\n",
    "\n",
    "# Reshaping a tensor\n",
    "x_reshaped = x.view(3, 2)\n",
    "print(x_reshaped)"
   ]
  },
  {
   "cell_type": "markdown",
   "id": "dfd81538",
   "metadata": {},
   "source": [
    "### **GPU Acceleration**\n",
    "If you have a GPU, you can easily move tensors to the GPU for faster computations."
   ]
  },
  {
   "cell_type": "code",
   "execution_count": 6,
   "id": "ac62edba",
   "metadata": {},
   "outputs": [
    {
     "name": "stdout",
     "output_type": "stream",
     "text": [
      "tensor([[1, 2, 3],\n",
      "        [4, 5, 6]], device='cuda:0')\n"
     ]
    }
   ],
   "source": [
    "# Check if GPU is available\n",
    "device = torch.device('cuda' if torch.cuda.is_available() else 'cpu')\n",
    "\n",
    "# Moving tensor to GPU\n",
    "x_gpu = x.to(device)\n",
    "print(x_gpu)"
   ]
  },
  {
   "cell_type": "markdown",
   "id": "2e03c089",
   "metadata": {},
   "source": [
    "## **Building a Simple Neural Network**"
   ]
  },
  {
   "cell_type": "markdown",
   "id": "7953381c",
   "metadata": {},
   "source": [
    "### **Defining a Model**\n",
    "In PyTorch, models are defined using the `nn.Module` class. Let's create a simple neural network for image classification."
   ]
  },
  {
   "cell_type": "code",
   "execution_count": 7,
   "id": "41cd52c2",
   "metadata": {},
   "outputs": [],
   "source": [
    "class SimpleNN(nn.Module):\n",
    "    def __init__(self, input_size, output_size):\n",
    "        super(SimpleNN, self).__init__(),\n",
    "\n",
    "        self.fc1 = nn.Linear(input_size, 128)\n",
    "        self.fc2 = nn.Linear(128, 64)\n",
    "        self.fc3 = nn.Linear(64, output_size)\n",
    "    \n",
    "    def forward(self, x):\n",
    "        x = F.relu(self.fc1(x))\n",
    "        x = F.relu(self.fc2(x))\n",
    "        x = self.fc3(x)\n",
    "        return x"
   ]
  },
  {
   "cell_type": "markdown",
   "id": "20e93022",
   "metadata": {},
   "source": [
    "### **Loss Function and Optimizer**\n",
    "To train the model, we need to define a loss function and an optimizer. PyTorch provides several options, and we will use Cross Entropy Loss and the SGD optimizer."
   ]
  },
  {
   "cell_type": "code",
   "execution_count": 8,
   "id": "c7a02b70",
   "metadata": {},
   "outputs": [],
   "source": [
    "# Initialize model, loss function, and optimizer\n",
    "model = SimpleNN(input_size=28*28, output_size=10)\n",
    "criterion = nn.CrossEntropyLoss()\n",
    "optimizer = optim.SGD(model.parameters(), lr=0.001)"
   ]
  },
  {
   "cell_type": "markdown",
   "id": "3f0ba86b",
   "metadata": {},
   "source": [
    "## **Training the Neural Network**"
   ]
  },
  {
   "cell_type": "markdown",
   "id": "458c4db4",
   "metadata": {},
   "source": [
    "### **Loading Data**\n",
    "We will use the MNIST dataset for training, which consists of 28x28 grayscale images of handwritten digits. PyTorch provides `torchvision.datasets` to handle datasets."
   ]
  },
  {
   "cell_type": "code",
   "execution_count": 9,
   "id": "48521736",
   "metadata": {},
   "outputs": [
    {
     "name": "stdout",
     "output_type": "stream",
     "text": [
      "Downloading http://yann.lecun.com/exdb/mnist/train-images-idx3-ubyte.gz\n",
      "Failed to download (trying next):\n",
      "HTTP Error 403: Forbidden\n",
      "\n",
      "Downloading https://ossci-datasets.s3.amazonaws.com/mnist/train-images-idx3-ubyte.gz\n",
      "Downloading https://ossci-datasets.s3.amazonaws.com/mnist/train-images-idx3-ubyte.gz to ./data/MNIST/raw/train-images-idx3-ubyte.gz\n"
     ]
    },
    {
     "name": "stderr",
     "output_type": "stream",
     "text": [
      "100%|██████████| 9912422/9912422 [00:03<00:00, 2729832.45it/s]\n"
     ]
    },
    {
     "name": "stdout",
     "output_type": "stream",
     "text": [
      "Extracting ./data/MNIST/raw/train-images-idx3-ubyte.gz to ./data/MNIST/raw\n",
      "\n",
      "Downloading http://yann.lecun.com/exdb/mnist/train-labels-idx1-ubyte.gz\n",
      "Failed to download (trying next):\n",
      "HTTP Error 403: Forbidden\n",
      "\n",
      "Downloading https://ossci-datasets.s3.amazonaws.com/mnist/train-labels-idx1-ubyte.gz\n",
      "Downloading https://ossci-datasets.s3.amazonaws.com/mnist/train-labels-idx1-ubyte.gz to ./data/MNIST/raw/train-labels-idx1-ubyte.gz\n"
     ]
    },
    {
     "name": "stderr",
     "output_type": "stream",
     "text": [
      "100%|██████████| 28881/28881 [00:00<00:00, 246041.23it/s]\n"
     ]
    },
    {
     "name": "stdout",
     "output_type": "stream",
     "text": [
      "Extracting ./data/MNIST/raw/train-labels-idx1-ubyte.gz to ./data/MNIST/raw\n",
      "\n",
      "Downloading http://yann.lecun.com/exdb/mnist/t10k-images-idx3-ubyte.gz\n",
      "Failed to download (trying next):\n",
      "HTTP Error 403: Forbidden\n",
      "\n",
      "Downloading https://ossci-datasets.s3.amazonaws.com/mnist/t10k-images-idx3-ubyte.gz\n",
      "Downloading https://ossci-datasets.s3.amazonaws.com/mnist/t10k-images-idx3-ubyte.gz to ./data/MNIST/raw/t10k-images-idx3-ubyte.gz\n"
     ]
    },
    {
     "name": "stderr",
     "output_type": "stream",
     "text": [
      "100%|██████████| 1648877/1648877 [00:00<00:00, 1959502.43it/s]\n"
     ]
    },
    {
     "name": "stdout",
     "output_type": "stream",
     "text": [
      "Extracting ./data/MNIST/raw/t10k-images-idx3-ubyte.gz to ./data/MNIST/raw\n",
      "\n",
      "Downloading http://yann.lecun.com/exdb/mnist/t10k-labels-idx1-ubyte.gz\n",
      "Failed to download (trying next):\n",
      "HTTP Error 403: Forbidden\n",
      "\n",
      "Downloading https://ossci-datasets.s3.amazonaws.com/mnist/t10k-labels-idx1-ubyte.gz\n",
      "Downloading https://ossci-datasets.s3.amazonaws.com/mnist/t10k-labels-idx1-ubyte.gz to ./data/MNIST/raw/t10k-labels-idx1-ubyte.gz\n"
     ]
    },
    {
     "name": "stderr",
     "output_type": "stream",
     "text": [
      "100%|██████████| 4542/4542 [00:00<00:00, 4036128.98it/s]"
     ]
    },
    {
     "name": "stdout",
     "output_type": "stream",
     "text": [
      "Extracting ./data/MNIST/raw/t10k-labels-idx1-ubyte.gz to ./data/MNIST/raw\n",
      "\n"
     ]
    },
    {
     "name": "stderr",
     "output_type": "stream",
     "text": [
      "\n"
     ]
    }
   ],
   "source": [
    "# Load the dataset\n",
    "train_dataset = datasets.MNIST(root='./data', train=True, transform=transforms.ToTensor(), download=True)\n",
    "test_dataset = datasets.MNIST(root='./data', train=False, transform=transforms.ToTensor(), download=True)\n",
    "\n",
    "train_loader = torch.utils.data.DataLoader(train_dataset, batch_size=32, shuffle=True)\n",
    "test_loader = torch.utils.data.DataLoader(test_dataset, batch_size=32, shuffle=False)"
   ]
  },
  {
   "cell_type": "markdown",
   "id": "3eb547c5",
   "metadata": {},
   "source": [
    "### **Training Loop**\n",
    "The training loop involves iterating over the dataset, performing forward passes, calculating loss, and updating model parameters using backpropagation."
   ]
  },
  {
   "cell_type": "code",
   "execution_count": 10,
   "id": "d55df380",
   "metadata": {},
   "outputs": [
    {
     "name": "stdout",
     "output_type": "stream",
     "text": [
      "Epoch [1/5], Loss: 0.2865\n",
      "Epoch [2/5], Loss: 0.1177\n",
      "Epoch [3/5], Loss: 0.0796\n",
      "Epoch [4/5], Loss: 0.0614\n",
      "Epoch [5/5], Loss: 0.0464\n"
     ]
    }
   ],
   "source": [
    "# Training loop\n",
    "num_epochs = 5\n",
    "\n",
    "for epoch in range(num_epochs):\n",
    "    running_loss = 0.0\n",
    "    for images, labels in train_loader:\n",
    "        # Flatten the images\n",
    "        images = images.view(images.shape[0], -1)\n",
    "        \n",
    "        # Forward prop\n",
    "        outputs = model(images)\n",
    "        loss = criterion(outputs, labels)\n",
    "        \n",
    "        # Compute gradients and update weights (Backward propagation)\n",
    "        optimizer.zero_grad()\n",
    "        loss.backward()\n",
    "        optimizer.step()\n",
    "        \n",
    "        running_loss += loss.item()\n",
    "    \n",
    "    print(f'Epoch [{epoch+1}/{num_epochs}], Loss: {running_loss/len(train_loader):.4f}')"
   ]
  },
  {
   "cell_type": "markdown",
   "id": "414b389a",
   "metadata": {},
   "source": [
    "## **Evaluating the Model**\n",
    "After training, we need to evaluate the model on the test data."
   ]
  },
  {
   "cell_type": "code",
   "execution_count": 11,
   "id": "3a7c49bf",
   "metadata": {},
   "outputs": [
    {
     "name": "stdout",
     "output_type": "stream",
     "text": [
      "Test Accuracy: 97.65%\n"
     ]
    }
   ],
   "source": [
    "# Evaluate the model\n",
    "model.eval()  # Set model to evaluation mode (We mentioned at the class but read the document again for why we use it.)\n",
    "correct = 0\n",
    "total = 0\n",
    "\n",
    "with torch.no_grad():\n",
    "    for images, labels in test_loader:\n",
    "        images = images.view(images.shape[0], -1)\n",
    "        outputs = model(images)\n",
    "        _, predicted = torch.max(outputs, 1)\n",
    "        total += labels.size(0)\n",
    "        correct += (predicted == labels).sum().item()\n",
    "\n",
    "print(f'Test Accuracy: {100 * correct / total:.2f}%')"
   ]
  },
  {
   "cell_type": "markdown",
   "id": "b68df7ce",
   "metadata": {},
   "source": [
    "## **Visualizing Results**\n",
    "### **Visualizing Predictions**\n",
    "We can visualize some of the model's predictions along with the actual labels."
   ]
  },
  {
   "cell_type": "code",
   "execution_count": 12,
   "id": "25088a06",
   "metadata": {},
   "outputs": [
    {
     "data": {
      "image/png": "[encoded data removed]",
      "text/plain": [
       "<Figure size 1200x600 with 6 Axes>"
      ]
     },
     "metadata": {},
     "output_type": "display_data"
    }
   ],
   "source": [
    "# Get some test images and labels\n",
    "images, labels = next(iter(test_loader))\n",
    "\n",
    "# Predict the labels\n",
    "images_flat = images.view(images.shape[0], -1)\n",
    "outputs = model(images_flat)\n",
    "_, predictions = torch.max(outputs, 1)\n",
    "\n",
    "# Visualize images with predicted labels\n",
    "fig, axes = plt.subplots(1, 6, figsize=(12, 6))\n",
    "for i in range(6):\n",
    "    ax = axes[i]\n",
    "    ax.imshow(images[i].squeeze(), cmap='gray')\n",
    "    ax.set_title(f'Label: {labels[i]}, Pred: {predictions[i]}')\n",
    "    ax.axis('off')\n",
    "plt.show()"
   ]
  },
  {
   "cell_type": "markdown",
   "id": "9f369589",
   "metadata": {},
   "source": [
    "## **Saving and Loading Models**\n",
    "Once a model is trained, it's important to save it for future use."
   ]
  },
  {
   "cell_type": "code",
   "execution_count": null,
   "id": "00be4a85",
   "metadata": {},
   "outputs": [],
   "source": [
    "# Save the model\n",
    "torch.save(model.state_dict(), 'simple_nn.pth')\n",
    "\n",
    "# Load the model\n",
    "model = SimpleNN()\n",
    "model.load_state_dict(torch.load('simple_nn.pth'))\n",
    "model.eval()"
   ]
  }
 ],
 "metadata": {
  "kernelspec": {
   "display_name": "gsoc",
   "language": "python",
   "name": "python3"
  },
  "language_info": {
   "codemirror_mode": {
    "name": "ipython",
    "version": 3
   },
   "file_extension": ".py",
   "mimetype": "text/x-python",
   "name": "python",
   "nbconvert_exporter": "python",
   "pygments_lexer": "ipython3",
   "version": "3.12.2"
  }
 },
 "nbformat": 4,
 "nbformat_minor": 5
}
